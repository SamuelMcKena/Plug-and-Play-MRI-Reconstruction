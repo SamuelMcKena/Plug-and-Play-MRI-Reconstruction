{
 "cells": [
  {
   "cell_type": "code",
   "execution_count": 3,
   "id": "feb4c2c5",
   "metadata": {},
   "outputs": [
    {
     "name": "stdout",
     "output_type": "stream",
     "text": [
      "aaaaaaaaaaaaaaaaaaaaaaaaaaaaaa20"
     ]
    }
   ],
   "source": [
    "print('aaa'*10, end='20')"
   ]
  },
  {
   "cell_type": "code",
   "execution_count": null,
   "id": "cc5a5634",
   "metadata": {},
   "outputs": [
    {
     "ename": "SyntaxError",
     "evalue": "Missing parentheses in call to 'print'. Did you mean print(...)? (2134528244.py, line 1)",
     "output_type": "error",
     "traceback": [
      "  \u001b[36mCell\u001b[39m\u001b[36m \u001b[39m\u001b[32mIn[4]\u001b[39m\u001b[32m, line 1\u001b[39m\n\u001b[31m    \u001b[39m\u001b[31mprint 'hello world'\u001b[39m\n    ^\n\u001b[31mSyntaxError\u001b[39m\u001b[31m:\u001b[39m Missing parentheses in call to 'print'. Did you mean print(...)?\n"
     ]
    }
   ],
   "source": [
    "print 'hello world'\n",
    "#Showing a syntax error"
   ]
  },
  {
   "cell_type": "code",
   "execution_count": null,
   "id": "764b0ebe",
   "metadata": {},
   "outputs": [
    {
     "name": "stdout",
     "output_type": "stream",
     "text": [
      "a = 5\n"
     ]
    }
   ],
   "source": [
    "a = 2 + 3\n",
    "print('a =', a)\n",
    "\n"
   ]
  },
  {
   "cell_type": "code",
   "execution_count": 22,
   "id": "84215c9c",
   "metadata": {},
   "outputs": [
    {
     "name": "stdout",
     "output_type": "stream",
     "text": [
      "hello world\n",
      "11\n",
      "o\n",
      "llo\n"
     ]
    }
   ],
   "source": [
    "#strings\n",
    "\n",
    "s = 'hello world'\n",
    "print(s)\n",
    "print(len(s)) #length of string\n",
    "print(s[4]) #accessing character at index 2\n",
    "print(s[2:5]) #slicing string from index 2 to 4"
   ]
  },
  {
   "cell_type": "code",
   "execution_count": 32,
   "id": "33620e9b",
   "metadata": {},
   "outputs": [
    {
     "name": "stdout",
     "output_type": "stream",
     "text": [
      "e is not in s\n"
     ]
    }
   ],
   "source": [
    "#expressions\n",
    "if \"'h'\" in s == 1:\n",
    "    print('e is in s')\n",
    "else:\n",
    "    print('e is not in s')"
   ]
  },
  {
   "cell_type": "code",
   "execution_count": 31,
   "id": "8012c46f",
   "metadata": {},
   "outputs": [
    {
     "name": "stdout",
     "output_type": "stream",
     "text": [
      "x: 7, y: 9\n"
     ]
    }
   ],
   "source": [
    "#type conversion\n",
    "x = input('x:') #asks for input as a string\n",
    "y = int(x) + 2 #converts input to integer and adds 2\n",
    "print(f'x: {x}, y: {y}') #prints the values of x and y"
   ]
  },
  {
   "cell_type": "code",
   "execution_count": 61,
   "id": "69cf79d5",
   "metadata": {},
   "outputs": [
    {
     "name": "stdout",
     "output_type": "stream",
     "text": [
      "You are too cold\n",
      "small\n",
      "Old enough\n"
     ]
    }
   ],
   "source": [
    "#conditional statements\n",
    "temperature = -2\n",
    "if temperature > 12:\n",
    "    print('It is warm')\n",
    "elif temperature > 0:\n",
    "        print('It is cool')\n",
    "else:\n",
    "    print('You are too cold')\n",
    "    \n",
    "#writing as ternary operator\n",
    "size = 4.999\n",
    "if size >= 5:\n",
    "    message = 'large'\n",
    "else:\n",
    "    message = 'small'\n",
    "print(message)\n",
    "\n",
    "#or even simpler:\n",
    "age = 19\n",
    "message = 'Old enough' if age >= 19 else 'Too young'\n",
    "print(message)"
   ]
  },
  {
   "cell_type": "code",
   "execution_count": 81,
   "id": "07a88328",
   "metadata": {},
   "outputs": [
    {
     "name": "stdout",
     "output_type": "stream",
     "text": [
      "not eligible for loan\n",
      "Eligible for loan\n"
     ]
    }
   ],
   "source": [
    "#Operators\n",
    "#and, or, not\n",
    "\n",
    "high_income = 1\n",
    "good_credit = 0\n",
    "\n",
    "if high_income and good_credit: #and operator checks if both conditions are true\n",
    "    print('Eligible for loan')\n",
    "else:\n",
    "    print('not eligible for loan')\n",
    "    \n",
    "\n",
    "#Operators\n",
    "#and, or, not\n",
    "\n",
    "high_income = 1\n",
    "good_credit = 0\n",
    "#Using or operator to check if at least one condition is true\n",
    "if high_income or good_credit:\n",
    "    print('Eligible for loan')\n",
    "else:\n",
    "    print('not eligible for loan')\n",
    "    \n",
    "#Operators\n",
    "#and, or, not\n"
   ]
  },
  {
   "cell_type": "code",
   "execution_count": null,
   "id": "87cb5c98",
   "metadata": {},
   "outputs": [
    {
     "name": "stdout",
     "output_type": "stream",
     "text": [
      "Student, checking loan eligibility\n",
      "Eligible for loan\n"
     ]
    }
   ],
   "source": [
    "\n",
    "high_income = 1\n",
    "good_credit = 1\n",
    "student = True\n",
    "\n",
    "#not operator to check if the condition is false\n",
    "if not student:\n",
    "    print('You are not a student, no loan eligibility check needed')\n",
    "\n",
    "else:\n",
    "    print('Student, checking loan eligibility')\n",
    "    if high_income and good_credit:\n",
    "        print('Eligible for loan')\n",
    "    else:\n",
    "        print('Not eligible for loan')\n"
   ]
  },
  {
   "cell_type": "code",
   "execution_count": 90,
   "id": "fbff5269",
   "metadata": {},
   "outputs": [
    {
     "name": "stdout",
     "output_type": "stream",
     "text": [
      "Not eligible for loan\n"
     ]
    }
   ],
   "source": [
    "\n",
    "high_income = 1\n",
    "good_credit = 0\n",
    "student = False\n",
    "#now a shorterhand cleaner way to write the same logic\n",
    "if (high_income and good_credit) and not student:\n",
    "    print('Eligible for loan')\n",
    "else:\n",
    "    print('Not eligible for loan')\n",
    "        \n",
    "        \n"
   ]
  },
  {
   "cell_type": "code",
   "execution_count": 1,
   "id": "6bce54bf",
   "metadata": {},
   "outputs": [
    {
     "name": "stdout",
     "output_type": "stream",
     "text": [
      "Eligible for work\n",
      "Eligible\n"
     ]
    }
   ],
   "source": [
    "#Chaining comparison operators\n",
    "#Age should be between 18 and 65\n",
    "input_age = input('Enter your age: ')\n",
    "age = int(input_age)  # Convert input to integer\n",
    "if age >=18 and age <65:\n",
    "    print('Eligible for work')\n",
    "else:\n",
    "    print('Not eligible for work')\n",
    "    \n",
    "#Using chained comparison operators\n",
    "if 18<= age < 65:\n",
    "    print('Eligible')\n",
    "else: print('Not')\n",
    "\n",
    "\n"
   ]
  },
  {
   "cell_type": "code",
   "execution_count": null,
   "id": "2b056ae5",
   "metadata": {},
   "outputs": [],
   "source": [
    "#for loops\n"
   ]
  }
 ],
 "metadata": {
  "kernelspec": {
   "display_name": ".venv",
   "language": "python",
   "name": "python3"
  },
  "language_info": {
   "codemirror_mode": {
    "name": "ipython",
    "version": 3
   },
   "file_extension": ".py",
   "mimetype": "text/x-python",
   "name": "python",
   "nbconvert_exporter": "python",
   "pygments_lexer": "ipython3",
   "version": "3.11.13"
  }
 },
 "nbformat": 4,
 "nbformat_minor": 5
}
